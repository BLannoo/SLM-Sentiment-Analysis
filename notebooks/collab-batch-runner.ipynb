{
  "nbformat": 4,
  "nbformat_minor": 0,
  "metadata": {
    "colab": {
      "provenance": [],
      "authorship_tag": "ABX9TyOHrErbZXbq3ScoRfchwwxZ",
      "include_colab_link": true
    },
    "kernelspec": {
      "name": "python3",
      "display_name": "Python 3"
    },
    "language_info": {
      "name": "python"
    }
  },
  "cells": [
    {
      "cell_type": "markdown",
      "metadata": {
        "id": "view-in-github",
        "colab_type": "text"
      },
      "source": [
        "<a href=\"https://colab.research.google.com/github/BLannoo/SLM-Sentiment-Analysis/blob/main/notebooks/collab-batch-runner.ipynb\" target=\"_parent\"><img src=\"https://colab.research.google.com/assets/colab-badge.svg\" alt=\"Open In Colab\"/></a>"
      ]
    },
    {
      "cell_type": "code",
      "execution_count": 1,
      "metadata": {
        "id": "aUj9vdE2yLtQ",
        "colab": {
          "base_uri": "https://localhost:8080/"
        },
        "outputId": "3e5c6219-4565-4f0e-fcd0-78137b18a7a3"
      },
      "outputs": [
        {
          "output_type": "stream",
          "name": "stdout",
          "text": [
            "Cloning into 'SLM-Sentiment-Analysis'...\n",
            "remote: Enumerating objects: 286, done.\u001b[K\n",
            "remote: Counting objects: 100% (286/286), done.\u001b[K\n",
            "remote: Compressing objects: 100% (210/210), done.\u001b[K\n",
            "remote: Total 286 (delta 138), reused 201 (delta 65), pack-reused 0 (from 0)\u001b[K\n",
            "Receiving objects: 100% (286/286), 4.86 MiB | 10.49 MiB/s, done.\n",
            "Resolving deltas: 100% (138/138), done.\n"
          ]
        }
      ],
      "source": [
        "!git clone https://github.com/BLannoo/SLM-Sentiment-Analysis.git"
      ]
    },
    {
      "cell_type": "code",
      "source": [
        "%pwd"
      ],
      "metadata": {
        "colab": {
          "base_uri": "https://localhost:8080/",
          "height": 35
        },
        "id": "itzWfdna0pnI",
        "outputId": "ba11c9e5-9487-43d3-83f4-babbf4f3e711"
      },
      "execution_count": 2,
      "outputs": [
        {
          "output_type": "execute_result",
          "data": {
            "text/plain": [
              "'/content'"
            ],
            "application/vnd.google.colaboratory.intrinsic+json": {
              "type": "string"
            }
          },
          "metadata": {},
          "execution_count": 2
        }
      ]
    },
    {
      "cell_type": "code",
      "source": [
        "%ls"
      ],
      "metadata": {
        "colab": {
          "base_uri": "https://localhost:8080/"
        },
        "id": "5BQwgWEk0sK2",
        "outputId": "f98b4d60-5323-4c1c-ae1f-026ccabb9ad5"
      },
      "execution_count": 3,
      "outputs": [
        {
          "output_type": "stream",
          "name": "stdout",
          "text": [
            "\u001b[0m\u001b[01;34msample_data\u001b[0m/  \u001b[01;34mSLM-Sentiment-Analysis\u001b[0m/\n"
          ]
        }
      ]
    },
    {
      "cell_type": "code",
      "source": [
        "%cd SLM-Sentiment-Analysis"
      ],
      "metadata": {
        "colab": {
          "base_uri": "https://localhost:8080/"
        },
        "id": "RDLSetL5zREQ",
        "outputId": "82490fed-7fa2-4045-bfad-57bddd08583e"
      },
      "execution_count": 4,
      "outputs": [
        {
          "output_type": "stream",
          "name": "stdout",
          "text": [
            "/content/SLM-Sentiment-Analysis\n"
          ]
        }
      ]
    },
    {
      "cell_type": "code",
      "source": [
        "# required dependency for langchain in conflict with collab defaults\n",
        "!pip install -q 'tenacity!=8.4.0,<9.0.0,>=8.1.0'"
      ],
      "metadata": {
        "collapsed": true,
        "id": "dfnxFhYcsAaO"
      },
      "execution_count": null,
      "outputs": []
    },
    {
      "cell_type": "code",
      "source": [
        "!pip freeze > requirements-collab-freeze.txt"
      ],
      "metadata": {
        "id": "3c43mdC77URX"
      },
      "execution_count": null,
      "outputs": []
    },
    {
      "cell_type": "code",
      "source": [
        "!pip-compile requirements-collab.in -c requirements-collab-freeze.txt > ../pip_compile.log 2>&1"
      ],
      "metadata": {
        "collapsed": true,
        "id": "nPHn4aHDzvmv"
      },
      "execution_count": null,
      "outputs": []
    },
    {
      "cell_type": "code",
      "source": [
        "!pip install -r requirements-collab.txt > ../pip_install.log 2>&1"
      ],
      "metadata": {
        "collapsed": true,
        "id": "uGfIyhtFtDCB"
      },
      "execution_count": null,
      "outputs": []
    },
    {
      "cell_type": "code",
      "source": [
        "import time\n",
        "\n",
        "from src.consts import ModelName\n",
        "from src.logger import logger\n",
        "from src.main import main\n",
        "\n",
        "# Running the defaults like configure here on a CPU for\n",
        "# defaults: QWEN, 015-weighted-sentiment-filtering.txt, 10 reviews, T=0.2\n",
        "# Takes about 20min ( 3min installations + 17min run )\n",
        "\n",
        "start_time = time.time()\n",
        "main(\n",
        "    model_name=ModelName.QWEN.name,\n",
        "    prompt_folder_name=\"./prompts/top/\",\n",
        "    start_index=0,\n",
        "    end_index=10,\n",
        "    temperatures=\"0.2\",\n",
        ")\n",
        "logger.info(f\"Execution time: {(time.time() - start_time) / 60} minutes\")"
      ],
      "metadata": {
        "id": "rYJedbVpuExr"
      },
      "execution_count": null,
      "outputs": []
    },
    {
      "cell_type": "code",
      "source": [],
      "metadata": {
        "id": "JUbF7b7TlR6l"
      },
      "execution_count": null,
      "outputs": []
    }
  ]
}